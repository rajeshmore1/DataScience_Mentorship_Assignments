{
  "nbformat": 4,
  "nbformat_minor": 0,
  "metadata": {
    "colab": {
      "name": "Assignment_1_Python.ipynb",
      "provenance": [],
      "authorship_tag": "ABX9TyMSCkURijXvpdtLVlLTi9rW",
      "include_colab_link": true
    },
    "kernelspec": {
      "name": "python3",
      "display_name": "Python 3"
    },
    "language_info": {
      "name": "python"
    }
  },
  "cells": [
    {
      "cell_type": "markdown",
      "metadata": {
        "id": "view-in-github",
        "colab_type": "text"
      },
      "source": [
        "<a href=\"https://colab.research.google.com/github/rajeshmore1/DataScience_Mentorship_Assignments/blob/main/Assignment_1_Python.ipynb\" target=\"_parent\"><img src=\"https://colab.research.google.com/assets/colab-badge.svg\" alt=\"Open In Colab\"/></a>"
      ]
    },
    {
      "cell_type": "markdown",
      "source": [
        "1. What is a List?\n",
        "2. What is a Tuple?\n",
        "3. What is the difference between List and Tuple?\n",
        "4. Python Program to find the largest element in the list\n",
        "5. Python program to interchange first and last elements in a list. \n",
        "6. Python program to swap two elements in a list\n",
        "7. Python program to Reverse a List\n",
        "8. Python program to count occurrences of an element in a list\n",
        "9. Python program to find the sum of elements in a list\n",
        "10. Python program to Multiply all numbers in the list\n",
        "11. What are the ways to find the length of a list\n",
        "12. Python program to find the smallest and largest number in a list (Without\n",
        "min-max function)\n",
        "13. Python Program to find the area of a circle\n",
        "14. Take inputs from the user to make a list. Again take one input from the user and search it in the list and delete that element, if found. Iterate over a list using for loop.\n",
        "15. You are given a list of integer elements. Make a new list that will store a square of elements of the previous list. (With and without list comprehension) \n",
        "\n",
        "i.\n",
        "Input_list = [2,5,6,12]\n",
        "\n",
        "ii. Output_list = [4,25,36,144]"
      ],
      "metadata": {
        "id": "pqRwhVrfUkYk"
      }
    },
    {
      "cell_type": "code",
      "source": [
        ""
      ],
      "metadata": {
        "id": "KqSuC7OnU8Qt"
      },
      "execution_count": null,
      "outputs": []
    }
  ]
}