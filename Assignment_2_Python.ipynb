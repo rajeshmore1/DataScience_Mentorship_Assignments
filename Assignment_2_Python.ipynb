{
  "nbformat": 4,
  "nbformat_minor": 0,
  "metadata": {
    "colab": {
      "name": "Assignment_2_Python.ipynb",
      "provenance": [],
      "authorship_tag": "ABX9TyPQWMNmPv5SVfFcinplk+Fl",
      "include_colab_link": true
    },
    "kernelspec": {
      "name": "python3",
      "display_name": "Python 3"
    },
    "language_info": {
      "name": "python"
    }
  },
  "cells": [
    {
      "cell_type": "markdown",
      "metadata": {
        "id": "view-in-github",
        "colab_type": "text"
      },
      "source": [
        "<a href=\"https://colab.research.google.com/github/rajeshmore1/DataScience_Mentorship_Assignments/blob/main/Assignment_2_Python.ipynb\" target=\"_parent\"><img src=\"https://colab.research.google.com/assets/colab-badge.svg\" alt=\"Open In Colab\"/></a>"
      ]
    },
    {
      "cell_type": "markdown",
      "source": [
        "20. What’s The Difference Between The Python append() and extend() Methods?\n",
        "\n",
        "21. Write a Python program to append a list to the second list\n",
        "22. Write a Python program to find the third-largest number in a list \n",
        "23. Write a Python program to get the frequency of the elements in a list. \n",
        "24. Write a Python program to check whether a list contains a sublist \n",
        "25. Write a Python program to generate all sublists of a list\n",
        "26. Write a Python program to find common items from two lists\n",
        "27. How to flatten a list in python?\n",
        "28. How to sort a list in ascending and descending order without using the sort\n",
        "function?\n",
        "29. How to sort a tuple?\n",
        "30. Write a Python program to convert a list of multiple integers into a single integer\n",
        "\n",
        "a. [11, 33, 50] >>> 113350\n",
        "31. Difference between del and clear?\n",
        "32. Difference between remove and pop?\n",
        "33. Difference between indexing and Slicing?\n",
        "34. Difference between sort and sorted?\n",
        "35. Difference between reverse and reversed?\n",
        "36. Difference between copy and deep copy?\n",
        "37. How to check whether the list is empty or not?\n",
        "38. How to concatenate two lists?\n",
        "39. How to find the occurrences of an element in the python list?\n",
        "40. How to flatten a list in python?"
      ],
      "metadata": {
        "id": "e0nOL6f1XPdv"
      }
    },
    {
      "cell_type": "code",
      "source": [
        ""
      ],
      "metadata": {
        "id": "9SyaoqLeXgIN"
      },
      "execution_count": null,
      "outputs": []
    }
  ]
}